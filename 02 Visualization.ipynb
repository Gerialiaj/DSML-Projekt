{
 "cells": [
  {
   "cell_type": "code",
   "execution_count": 2,
   "metadata": {},
   "outputs": [],
   "source": [
    "import pandas as pd\n",
    "import numpy as np\n",
    "import re\n",
    "import datetime as dt #for working with times objects\n",
    "\n",
    "import matplotlib as mpl\n",
    "import matplotlib.pyplot as plt\n",
    "import seaborn as sns\n",
    "import folium\n",
    "from folium import plugins\n",
    "from folium.plugins import HeatMap"
   ]
  },
  {
   "cell_type": "code",
   "execution_count": 4,
   "metadata": {},
   "outputs": [
    {
     "data": {
      "text/html": [
       "<div>\n",
       "<style scoped>\n",
       "    .dataframe tbody tr th:only-of-type {\n",
       "        vertical-align: middle;\n",
       "    }\n",
       "\n",
       "    .dataframe tbody tr th {\n",
       "        vertical-align: top;\n",
       "    }\n",
       "\n",
       "    .dataframe thead th {\n",
       "        text-align: right;\n",
       "    }\n",
       "</style>\n",
       "<table border=\"1\" class=\"dataframe\">\n",
       "  <thead>\n",
       "    <tr style=\"text-align: right;\">\n",
       "      <th></th>\n",
       "      <th>start_time</th>\n",
       "      <th>end_time</th>\n",
       "      <th>start_station_id</th>\n",
       "      <th>end_station_id</th>\n",
       "      <th>start_station_name</th>\n",
       "      <th>end_station_name</th>\n",
       "      <th>bike_id</th>\n",
       "      <th>user_type</th>\n",
       "      <th>duration</th>\n",
       "    </tr>\n",
       "  </thead>\n",
       "  <tbody>\n",
       "    <tr>\n",
       "      <th>0</th>\n",
       "      <td>2018-04-01 00:04:44</td>\n",
       "      <td>2018-04-01 00:13:03</td>\n",
       "      <td>22</td>\n",
       "      <td>171</td>\n",
       "      <td>May St &amp; Taylor St</td>\n",
       "      <td>May St &amp; Cullerton St</td>\n",
       "      <td>3819</td>\n",
       "      <td>Subscriber</td>\n",
       "      <td>0 days 00:08:19</td>\n",
       "    </tr>\n",
       "    <tr>\n",
       "      <th>1</th>\n",
       "      <td>2018-04-01 00:06:42</td>\n",
       "      <td>2018-04-01 00:27:07</td>\n",
       "      <td>157</td>\n",
       "      <td>190</td>\n",
       "      <td>Lake Shore Dr &amp; Wellington Ave</td>\n",
       "      <td>Southport Ave &amp; Wrightwood Ave</td>\n",
       "      <td>5000</td>\n",
       "      <td>Subscriber</td>\n",
       "      <td>0 days 00:20:25</td>\n",
       "    </tr>\n",
       "    <tr>\n",
       "      <th>2</th>\n",
       "      <td>2018-04-01 00:07:19</td>\n",
       "      <td>2018-04-01 00:23:19</td>\n",
       "      <td>106</td>\n",
       "      <td>106</td>\n",
       "      <td>State St &amp; Pearson St</td>\n",
       "      <td>State St &amp; Pearson St</td>\n",
       "      <td>5165</td>\n",
       "      <td>Customer</td>\n",
       "      <td>0 days 00:16:00</td>\n",
       "    </tr>\n",
       "    <tr>\n",
       "      <th>3</th>\n",
       "      <td>2018-04-01 00:07:33</td>\n",
       "      <td>2018-04-01 00:14:47</td>\n",
       "      <td>241</td>\n",
       "      <td>171</td>\n",
       "      <td>Morgan St &amp; Polk St</td>\n",
       "      <td>May St &amp; Cullerton St</td>\n",
       "      <td>3851</td>\n",
       "      <td>Subscriber</td>\n",
       "      <td>0 days 00:07:14</td>\n",
       "    </tr>\n",
       "    <tr>\n",
       "      <th>4</th>\n",
       "      <td>2018-04-01 00:10:23</td>\n",
       "      <td>2018-04-01 00:22:12</td>\n",
       "      <td>228</td>\n",
       "      <td>219</td>\n",
       "      <td>Damen Ave &amp; Melrose Ave</td>\n",
       "      <td>Damen Ave &amp; Cortland St</td>\n",
       "      <td>5065</td>\n",
       "      <td>Subscriber</td>\n",
       "      <td>0 days 00:11:49</td>\n",
       "    </tr>\n",
       "    <tr>\n",
       "      <th>...</th>\n",
       "      <td>...</td>\n",
       "      <td>...</td>\n",
       "      <td>...</td>\n",
       "      <td>...</td>\n",
       "      <td>...</td>\n",
       "      <td>...</td>\n",
       "      <td>...</td>\n",
       "      <td>...</td>\n",
       "      <td>...</td>\n",
       "    </tr>\n",
       "    <tr>\n",
       "      <th>3584784</th>\n",
       "      <td>2018-03-31 23:46:34</td>\n",
       "      <td>2018-04-01 00:05:24</td>\n",
       "      <td>158</td>\n",
       "      <td>260</td>\n",
       "      <td>Milwaukee Ave &amp; Wabansia Ave</td>\n",
       "      <td>Kedzie Ave &amp; Milwaukee Ave</td>\n",
       "      <td>1935</td>\n",
       "      <td>Subscriber</td>\n",
       "      <td>0 days 00:18:50</td>\n",
       "    </tr>\n",
       "    <tr>\n",
       "      <th>3584785</th>\n",
       "      <td>2018-03-31 23:47:43</td>\n",
       "      <td>2018-03-31 23:52:05</td>\n",
       "      <td>299</td>\n",
       "      <td>229</td>\n",
       "      <td>Halsted St &amp; Roscoe St</td>\n",
       "      <td>Southport Ave &amp; Roscoe St</td>\n",
       "      <td>5852</td>\n",
       "      <td>Subscriber</td>\n",
       "      <td>0 days 00:04:22</td>\n",
       "    </tr>\n",
       "    <tr>\n",
       "      <th>3584786</th>\n",
       "      <td>2018-03-31 23:50:18</td>\n",
       "      <td>2018-03-31 23:57:38</td>\n",
       "      <td>327</td>\n",
       "      <td>226</td>\n",
       "      <td>Sheffield Ave &amp; Webster Ave</td>\n",
       "      <td>Racine Ave &amp; Belmont Ave</td>\n",
       "      <td>4414</td>\n",
       "      <td>Subscriber</td>\n",
       "      <td>0 days 00:07:20</td>\n",
       "    </tr>\n",
       "    <tr>\n",
       "      <th>3584787</th>\n",
       "      <td>2018-03-31 23:52:26</td>\n",
       "      <td>2018-04-01 00:07:13</td>\n",
       "      <td>265</td>\n",
       "      <td>426</td>\n",
       "      <td>Cottage Grove Ave &amp; Oakwood Blvd</td>\n",
       "      <td>Ellis Ave &amp; 60th St</td>\n",
       "      <td>6448</td>\n",
       "      <td>Subscriber</td>\n",
       "      <td>0 days 00:14:47</td>\n",
       "    </tr>\n",
       "    <tr>\n",
       "      <th>3584788</th>\n",
       "      <td>2018-03-31 23:53:38</td>\n",
       "      <td>2018-04-01 00:03:08</td>\n",
       "      <td>485</td>\n",
       "      <td>475</td>\n",
       "      <td>Sawyer Ave &amp; Irving Park Rd</td>\n",
       "      <td>Washtenaw Ave &amp; Lawrence Ave</td>\n",
       "      <td>2769</td>\n",
       "      <td>Subscriber</td>\n",
       "      <td>0 days 00:09:30</td>\n",
       "    </tr>\n",
       "  </tbody>\n",
       "</table>\n",
       "<p>3584782 rows × 9 columns</p>\n",
       "</div>"
      ],
      "text/plain": [
       "                 start_time            end_time  start_station_id  \\\n",
       "0       2018-04-01 00:04:44 2018-04-01 00:13:03                22   \n",
       "1       2018-04-01 00:06:42 2018-04-01 00:27:07               157   \n",
       "2       2018-04-01 00:07:19 2018-04-01 00:23:19               106   \n",
       "3       2018-04-01 00:07:33 2018-04-01 00:14:47               241   \n",
       "4       2018-04-01 00:10:23 2018-04-01 00:22:12               228   \n",
       "...                     ...                 ...               ...   \n",
       "3584784 2018-03-31 23:46:34 2018-04-01 00:05:24               158   \n",
       "3584785 2018-03-31 23:47:43 2018-03-31 23:52:05               299   \n",
       "3584786 2018-03-31 23:50:18 2018-03-31 23:57:38               327   \n",
       "3584787 2018-03-31 23:52:26 2018-04-01 00:07:13               265   \n",
       "3584788 2018-03-31 23:53:38 2018-04-01 00:03:08               485   \n",
       "\n",
       "         end_station_id                start_station_name  \\\n",
       "0                   171                May St & Taylor St   \n",
       "1                   190    Lake Shore Dr & Wellington Ave   \n",
       "2                   106             State St & Pearson St   \n",
       "3                   171               Morgan St & Polk St   \n",
       "4                   219           Damen Ave & Melrose Ave   \n",
       "...                 ...                               ...   \n",
       "3584784             260      Milwaukee Ave & Wabansia Ave   \n",
       "3584785             229            Halsted St & Roscoe St   \n",
       "3584786             226       Sheffield Ave & Webster Ave   \n",
       "3584787             426  Cottage Grove Ave & Oakwood Blvd   \n",
       "3584788             475       Sawyer Ave & Irving Park Rd   \n",
       "\n",
       "                       end_station_name  bike_id   user_type        duration  \n",
       "0                 May St & Cullerton St     3819  Subscriber 0 days 00:08:19  \n",
       "1        Southport Ave & Wrightwood Ave     5000  Subscriber 0 days 00:20:25  \n",
       "2                 State St & Pearson St     5165    Customer 0 days 00:16:00  \n",
       "3                 May St & Cullerton St     3851  Subscriber 0 days 00:07:14  \n",
       "4               Damen Ave & Cortland St     5065  Subscriber 0 days 00:11:49  \n",
       "...                                 ...      ...         ...             ...  \n",
       "3584784      Kedzie Ave & Milwaukee Ave     1935  Subscriber 0 days 00:18:50  \n",
       "3584785       Southport Ave & Roscoe St     5852  Subscriber 0 days 00:04:22  \n",
       "3584786        Racine Ave & Belmont Ave     4414  Subscriber 0 days 00:07:20  \n",
       "3584787             Ellis Ave & 60th St     6448  Subscriber 0 days 00:14:47  \n",
       "3584788    Washtenaw Ave & Lawrence Ave     2769  Subscriber 0 days 00:09:30  \n",
       "\n",
       "[3584782 rows x 9 columns]"
      ]
     },
     "execution_count": 4,
     "metadata": {},
     "output_type": "execute_result"
    }
   ],
   "source": [
    "#Reading in the cleansed data\n",
    "chicago_set = pd.read_pickle(\"chicago_set.pkl\")\n",
    "chicago_set"
   ]
  },
  {
   "cell_type": "code",
   "execution_count": 5,
   "metadata": {},
   "outputs": [
    {
     "name": "stdout",
     "output_type": "stream",
     "text": [
      "<class 'pandas.core.frame.DataFrame'>\n",
      "Int64Index: 3584782 entries, 0 to 3584788\n",
      "Data columns (total 9 columns):\n",
      " #   Column              Dtype          \n",
      "---  ------              -----          \n",
      " 0   start_time          datetime64[ns] \n",
      " 1   end_time            datetime64[ns] \n",
      " 2   start_station_id    int64          \n",
      " 3   end_station_id      int64          \n",
      " 4   start_station_name  object         \n",
      " 5   end_station_name    object         \n",
      " 6   bike_id             int64          \n",
      " 7   user_type           object         \n",
      " 8   duration            timedelta64[ns]\n",
      "dtypes: datetime64[ns](2), int64(3), object(3), timedelta64[ns](1)\n",
      "memory usage: 273.5+ MB\n"
     ]
    }
   ],
   "source": [
    "chicago_set.info()"
   ]
  },
  {
   "cell_type": "code",
   "execution_count": null,
   "metadata": {},
   "outputs": [],
   "source": []
  },
  {
   "cell_type": "code",
   "execution_count": 7,
   "metadata": {},
   "outputs": [
    {
     "name": "stdout",
     "output_type": "stream",
     "text": [
      "The Chicago fleet consists of 6133 bikes and there are 621 stations, which were used in 2018.\n"
     ]
    }
   ],
   "source": [
    "# Get the fleet size and the number of stations\n",
    "fleet_size = len(chicago_set[\"bike_id\"].unique())\n",
    "station_amount = len(chicago_set[\"start_station_id\"].unique())\n",
    "\n",
    "print(\"The Chicago fleet consists of {} bikes\".format(fleet_size), \"and there are {} stations, which were used in 2018.\".format(station_amount))"
   ]
  },
  {
   "cell_type": "code",
   "execution_count": null,
   "metadata": {},
   "outputs": [],
   "source": []
  },
  {
   "cell_type": "code",
   "execution_count": 10,
   "metadata": {},
   "outputs": [
    {
     "data": {
      "text/html": [
       "<div>\n",
       "<style scoped>\n",
       "    .dataframe tbody tr th:only-of-type {\n",
       "        vertical-align: middle;\n",
       "    }\n",
       "\n",
       "    .dataframe tbody tr th {\n",
       "        vertical-align: top;\n",
       "    }\n",
       "\n",
       "    .dataframe thead th {\n",
       "        text-align: right;\n",
       "    }\n",
       "</style>\n",
       "<table border=\"1\" class=\"dataframe\">\n",
       "  <thead>\n",
       "    <tr style=\"text-align: right;\">\n",
       "      <th></th>\n",
       "      <th>date</th>\n",
       "      <th>amount</th>\n",
       "      <th>weekday</th>\n",
       "      <th>user types</th>\n",
       "    </tr>\n",
       "  </thead>\n",
       "  <tbody>\n",
       "    <tr>\n",
       "      <th>0</th>\n",
       "      <td>2018-01-01</td>\n",
       "      <td>374</td>\n",
       "      <td>0</td>\n",
       "      <td>Subscriber</td>\n",
       "    </tr>\n",
       "    <tr>\n",
       "      <th>1</th>\n",
       "      <td>2018-01-02</td>\n",
       "      <td>1635</td>\n",
       "      <td>1</td>\n",
       "      <td>Subscriber</td>\n",
       "    </tr>\n",
       "    <tr>\n",
       "      <th>2</th>\n",
       "      <td>2018-01-03</td>\n",
       "      <td>2488</td>\n",
       "      <td>2</td>\n",
       "      <td>Customer</td>\n",
       "    </tr>\n",
       "    <tr>\n",
       "      <th>3</th>\n",
       "      <td>2018-01-04</td>\n",
       "      <td>2411</td>\n",
       "      <td>3</td>\n",
       "      <td>Subscriber</td>\n",
       "    </tr>\n",
       "    <tr>\n",
       "      <th>4</th>\n",
       "      <td>2018-01-05</td>\n",
       "      <td>2221</td>\n",
       "      <td>4</td>\n",
       "      <td>Subscriber</td>\n",
       "    </tr>\n",
       "    <tr>\n",
       "      <th>...</th>\n",
       "      <td>...</td>\n",
       "      <td>...</td>\n",
       "      <td>...</td>\n",
       "      <td>...</td>\n",
       "    </tr>\n",
       "    <tr>\n",
       "      <th>360</th>\n",
       "      <td>2018-12-27</td>\n",
       "      <td>2326</td>\n",
       "      <td>3</td>\n",
       "      <td>Subscriber</td>\n",
       "    </tr>\n",
       "    <tr>\n",
       "      <th>361</th>\n",
       "      <td>2018-12-28</td>\n",
       "      <td>3203</td>\n",
       "      <td>4</td>\n",
       "      <td>Subscriber</td>\n",
       "    </tr>\n",
       "    <tr>\n",
       "      <th>362</th>\n",
       "      <td>2018-12-29</td>\n",
       "      <td>1338</td>\n",
       "      <td>5</td>\n",
       "      <td>Customer</td>\n",
       "    </tr>\n",
       "    <tr>\n",
       "      <th>363</th>\n",
       "      <td>2018-12-30</td>\n",
       "      <td>1575</td>\n",
       "      <td>6</td>\n",
       "      <td>Subscriber</td>\n",
       "    </tr>\n",
       "    <tr>\n",
       "      <th>364</th>\n",
       "      <td>2018-12-31</td>\n",
       "      <td>1174</td>\n",
       "      <td>0</td>\n",
       "      <td>Subscriber</td>\n",
       "    </tr>\n",
       "  </tbody>\n",
       "</table>\n",
       "<p>365 rows × 4 columns</p>\n",
       "</div>"
      ],
      "text/plain": [
       "           date  amount  weekday  user types\n",
       "0    2018-01-01     374        0  Subscriber\n",
       "1    2018-01-02    1635        1  Subscriber\n",
       "2    2018-01-03    2488        2    Customer\n",
       "3    2018-01-04    2411        3  Subscriber\n",
       "4    2018-01-05    2221        4  Subscriber\n",
       "..          ...     ...      ...         ...\n",
       "360  2018-12-27    2326        3  Subscriber\n",
       "361  2018-12-28    3203        4  Subscriber\n",
       "362  2018-12-29    1338        5    Customer\n",
       "363  2018-12-30    1575        6  Subscriber\n",
       "364  2018-12-31    1174        0  Subscriber\n",
       "\n",
       "[365 rows x 4 columns]"
      ]
     },
     "execution_count": 10,
     "metadata": {},
     "output_type": "execute_result"
    }
   ],
   "source": [
    "# Amount of bike rentings grouped by date\n",
    "day_demand = pd.DataFrame({'amount': chicago_set.groupby(chicago_set['start_time'].apply(lambda x: x.date())).size()})\n",
    "\n",
    "day_demand.reset_index(inplace=True)\n",
    "day_demand = day_demand.rename(columns = {'start_time':'date'})\n",
    "day_demand['weekday'] = day_demand['date'].apply(lambda x: x.weekday())\n",
    "day_demand[\"user types\"] = chicago_set[\"user_type\"]\n",
    "\n",
    "day_demand"
   ]
  },
  {
   "cell_type": "markdown",
   "metadata": {},
   "source": [
    "## Demand over the year"
   ]
  },
  {
   "cell_type": "code",
   "execution_count": 11,
   "metadata": {},
   "outputs": [
    {
     "data": {
      "image/png": "[encoded data removed]",
      "text/plain": [
       "<Figure size 1080x648 with 1 Axes>"
      ]
     },
     "metadata": {
      "needs_background": "light"
     },
     "output_type": "display_data"
    }
   ],
   "source": [
    "# Getting the demand over the year\n",
    "fig, ax = plt.subplots(figsize = (15,9))\n",
    "\n",
    "# Plotting the data\n",
    "ax.plot(day_demand[\"date\"],day_demand[[\"amount\"]])\n",
    "ax.set_xlabel(\"Date\")\n",
    "ax.set_ylabel(\"Demand\")\n",
    "ax.set_title(\"Yearly demand\")\n",
    "\n",
    "plt.show()"
   ]
  },
  {
   "cell_type": "code",
   "execution_count": 12,
   "metadata": {},
   "outputs": [
    {
     "data": {
      "text/plain": [
       "date          2018-07-28\n",
       "amount             20471\n",
       "weekday                5\n",
       "user types      Customer\n",
       "Name: 208, dtype: object"
      ]
     },
     "execution_count": 12,
     "metadata": {},
     "output_type": "execute_result"
    }
   ],
   "source": [
    "#search for max demand \n",
    "day_demand.iloc[day_demand['amount'].argmax()]"
   ]
  },
  {
   "cell_type": "code",
   "execution_count": 13,
   "metadata": {},
   "outputs": [
    {
     "data": {
      "text/plain": [
       "date          2018-01-01\n",
       "amount               374\n",
       "weekday                0\n",
       "user types    Subscriber\n",
       "Name: 0, dtype: object"
      ]
     },
     "execution_count": 13,
     "metadata": {},
     "output_type": "execute_result"
    }
   ],
   "source": [
    "#search for min demand \n",
    "day_demand.iloc[day_demand['amount'].argmin()]"
   ]
  },
  {
   "cell_type": "markdown",
   "metadata": {},
   "source": [
    "## Demand over the months "
   ]
  },
  {
   "cell_type": "code",
   "execution_count": 15,
   "metadata": {},
   "outputs": [
    {
     "data": {
      "text/html": [
       "<div>\n",
       "<style scoped>\n",
       "    .dataframe tbody tr th:only-of-type {\n",
       "        vertical-align: middle;\n",
       "    }\n",
       "\n",
       "    .dataframe tbody tr th {\n",
       "        vertical-align: top;\n",
       "    }\n",
       "\n",
       "    .dataframe thead th {\n",
       "        text-align: right;\n",
       "    }\n",
       "</style>\n",
       "<table border=\"1\" class=\"dataframe\">\n",
       "  <thead>\n",
       "    <tr style=\"text-align: right;\">\n",
       "      <th></th>\n",
       "      <th>month</th>\n",
       "      <th>date</th>\n",
       "      <th>amount</th>\n",
       "      <th>user types</th>\n",
       "    </tr>\n",
       "  </thead>\n",
       "  <tbody>\n",
       "    <tr>\n",
       "      <th>0</th>\n",
       "      <td>1</td>\n",
       "      <td>2018-01-01</td>\n",
       "      <td>374</td>\n",
       "      <td>Subscriber</td>\n",
       "    </tr>\n",
       "    <tr>\n",
       "      <th>1</th>\n",
       "      <td>1</td>\n",
       "      <td>2018-01-02</td>\n",
       "      <td>1635</td>\n",
       "      <td>Subscriber</td>\n",
       "    </tr>\n",
       "    <tr>\n",
       "      <th>2</th>\n",
       "      <td>1</td>\n",
       "      <td>2018-01-03</td>\n",
       "      <td>2488</td>\n",
       "      <td>Customer</td>\n",
       "    </tr>\n",
       "    <tr>\n",
       "      <th>3</th>\n",
       "      <td>1</td>\n",
       "      <td>2018-01-04</td>\n",
       "      <td>2411</td>\n",
       "      <td>Subscriber</td>\n",
       "    </tr>\n",
       "    <tr>\n",
       "      <th>4</th>\n",
       "      <td>1</td>\n",
       "      <td>2018-01-05</td>\n",
       "      <td>2221</td>\n",
       "      <td>Subscriber</td>\n",
       "    </tr>\n",
       "    <tr>\n",
       "      <th>...</th>\n",
       "      <td>...</td>\n",
       "      <td>...</td>\n",
       "      <td>...</td>\n",
       "      <td>...</td>\n",
       "    </tr>\n",
       "    <tr>\n",
       "      <th>360</th>\n",
       "      <td>12</td>\n",
       "      <td>2018-12-27</td>\n",
       "      <td>2326</td>\n",
       "      <td>Subscriber</td>\n",
       "    </tr>\n",
       "    <tr>\n",
       "      <th>361</th>\n",
       "      <td>12</td>\n",
       "      <td>2018-12-28</td>\n",
       "      <td>3203</td>\n",
       "      <td>Subscriber</td>\n",
       "    </tr>\n",
       "    <tr>\n",
       "      <th>362</th>\n",
       "      <td>12</td>\n",
       "      <td>2018-12-29</td>\n",
       "      <td>1338</td>\n",
       "      <td>Customer</td>\n",
       "    </tr>\n",
       "    <tr>\n",
       "      <th>363</th>\n",
       "      <td>12</td>\n",
       "      <td>2018-12-30</td>\n",
       "      <td>1575</td>\n",
       "      <td>Subscriber</td>\n",
       "    </tr>\n",
       "    <tr>\n",
       "      <th>364</th>\n",
       "      <td>12</td>\n",
       "      <td>2018-12-31</td>\n",
       "      <td>1174</td>\n",
       "      <td>Subscriber</td>\n",
       "    </tr>\n",
       "  </tbody>\n",
       "</table>\n",
       "<p>365 rows × 4 columns</p>\n",
       "</div>"
      ],
      "text/plain": [
       "     month        date  amount  user types\n",
       "0        1  2018-01-01     374  Subscriber\n",
       "1        1  2018-01-02    1635  Subscriber\n",
       "2        1  2018-01-03    2488    Customer\n",
       "3        1  2018-01-04    2411  Subscriber\n",
       "4        1  2018-01-05    2221  Subscriber\n",
       "..     ...         ...     ...         ...\n",
       "360     12  2018-12-27    2326  Subscriber\n",
       "361     12  2018-12-28    3203  Subscriber\n",
       "362     12  2018-12-29    1338    Customer\n",
       "363     12  2018-12-30    1575  Subscriber\n",
       "364     12  2018-12-31    1174  Subscriber\n",
       "\n",
       "[365 rows x 4 columns]"
      ]
     },
     "execution_count": 15,
     "metadata": {},
     "output_type": "execute_result"
    }
   ],
   "source": [
    "# Getting the monthly demand\n",
    "month_demand = pd.DataFrame({'amount': chicago_set.groupby(by=[chicago_set['start_time'].apply(lambda x: x.date()),\n",
    "                                                        chicago_set['start_time'].apply(lambda x: x.month)]).size()})\n",
    "\n",
    "\n",
    "month_demand.reset_index(level=0, inplace=True)\n",
    "\n",
    "month_demand = month_demand.rename(columns = {'start_time':'date'})\n",
    "\n",
    "month_demand.reset_index(inplace=True)\n",
    "\n",
    "month_demand = month_demand.rename(columns = {'start_time':'month'})\n",
    "\n",
    "month_demand[\"user types\"] = chicago_set[\"user_type\"] \n",
    "\n",
    "month_demand"
   ]
  },
  {
   "cell_type": "code",
   "execution_count": 16,
   "metadata": {},
   "outputs": [
    {
     "data": {
      "image/png": "[encoded data removed]",
      "text/plain": [
       "<Figure size 720x288 with 1 Axes>"
      ]
     },
     "metadata": {
      "needs_background": "light"
     },
     "output_type": "display_data"
    }
   ],
   "source": [
    "# Getting the monthly demand \n",
    "fig,ax = plt.subplots(figsize=(10,4))\n",
    "\n",
    "sns.boxplot(x=month_demand[\"month\"], y=month_demand[\"amount\"], ax=ax)\n",
    "\n",
    "ax.set_xlabel(\"Month\")\n",
    "ax.set_ylabel(\"Demand\")\n",
    "ax.set_title(\"Monthly demand\")\n",
    "\n",
    "plt.show()"
   ]
  },
  {
   "cell_type": "code",
   "execution_count": 17,
   "metadata": {},
   "outputs": [
    {
     "data": {
      "image/png": "[encoded data removed]",
      "text/plain": [
       "<Figure size 720x288 with 1 Axes>"
      ]
     },
     "metadata": {
      "needs_background": "light"
     },
     "output_type": "display_data"
    },
    {
     "data": {
      "image/png": "[encoded data removed]",
      "text/plain": [
       "<Figure size 720x288 with 1 Axes>"
      ]
     },
     "metadata": {
      "needs_background": "light"
     },
     "output_type": "display_data"
    }
   ],
   "source": [
    "# Getting the different demands per user type to see if there are any differences\n",
    "\n",
    "# Monthly demand of Monthly pass users\n",
    "\n",
    "fig,ax = plt.subplots(figsize=(10,4))\n",
    "\n",
    "month_demand_mp = month_demand[(month_demand[\"user types\"] == \"Subscriber\")]\n",
    "\n",
    "sns.boxplot(x=month_demand[\"month\"], y=month_demand[\"amount\"], ax=ax)\n",
    "\n",
    "ax.set_xlabel(\"Month\")\n",
    "ax.set_ylabel(\"Demand\")\n",
    "ax.set_title(\"Monthly demand for Subscribers\")\n",
    "\n",
    "plt.show()\n",
    "\n",
    "# Monthly demand of walk-up useres\n",
    "\n",
    "fig,ax = plt.subplots(figsize=(10,4))\n",
    "\n",
    "month_demand_wu = month_demand[(month_demand[\"user types\"] == \"Customer\")]\n",
    "\n",
    "sns.boxplot(x=month_demand_wu[\"month\"], y=month_demand_wu[\"amount\"], ax=ax)\n",
    "\n",
    "ax.set_xlabel(\"Month\")\n",
    "ax.set_ylabel(\"Demand\")\n",
    "ax.set_title(\"Monthly demand for one time customers\")\n",
    "\n",
    "plt.show()"
   ]
  },
  {
   "cell_type": "markdown",
   "metadata": {},
   "source": [
    "### Demand over the week"
   ]
  },
  {
   "cell_type": "code",
   "execution_count": 18,
   "metadata": {},
   "outputs": [
    {
     "data": {
      "image/png": "[encoded data removed]",
      "text/plain": [
       "<Figure size 720x288 with 1 Axes>"
      ]
     },
     "metadata": {
      "needs_background": "light"
     },
     "output_type": "display_data"
    }
   ],
   "source": [
    "# Getting the demand over the week\n",
    "fig,ax = plt.subplots(figsize=(10,4)) \n",
    "\n",
    "sns.boxplot(x=day_demand['weekday'], y=day_demand[\"amount\"],ax=ax)\n",
    "\n",
    "ax.set_xlabel(\"Weekday\")\n",
    "ax.set_ylabel(\"Demand\")\n",
    "ax.set_title(\"Weekly demand\")\n",
    "\n",
    "plt.show()"
   ]
  },
  {
   "cell_type": "code",
   "execution_count": 32,
   "metadata": {},
   "outputs": [
    {
     "data": {
      "image/png": "[encoded data removed]",
      "text/plain": [
       "<Figure size 720x288 with 1 Axes>"
      ]
     },
     "metadata": {
      "needs_background": "light"
     },
     "output_type": "display_data"
    },
    {
     "data": {
      "image/png": "[encoded data removed]",
      "text/plain": [
       "<Figure size 720x288 with 1 Axes>"
      ]
     },
     "metadata": {
      "needs_background": "light"
     },
     "output_type": "display_data"
    }
   ],
   "source": [
    "# Getting the different demands per user type, to see if there are any differences\n",
    "\n",
    "# Demand per week of monthly pass users \n",
    "\n",
    "fig,ax = plt.subplots(figsize=(10,4)) \n",
    "\n",
    "day_demand_mp = day_demand[(day_demand[\"user types\"] == \"Subscriber\")]\n",
    "\n",
    "\n",
    "sns.boxplot(x=day_demand_mp['weekday'], y=day_demand_mp[\"amount\"],ax=ax)\n",
    "\n",
    "ax.set_xlabel(\"Weekday\")\n",
    "ax.set_ylabel(\"Demand\")\n",
    "ax.set_title(\"Weekly demand for monthly pass users\")\n",
    "\n",
    "plt.show()\n",
    "\n",
    "# Demand per week of walk-up users users \n",
    "\n",
    "fig,ax = plt.subplots(figsize=(10,4)) \n",
    "\n",
    "day_demand_wu = day_demand[(day_demand[\"user types\"] == \"Customer\")]\n",
    "\n",
    "\n",
    "sns.boxplot(x=day_demand_wu['weekday'], y=day_demand_wu[\"amount\"],ax=ax)\n",
    "\n",
    "ax.set_xlabel(\"Weekday\")\n",
    "ax.set_ylabel(\"Demand\")\n",
    "ax.set_title(\"Weekly demand for one time customer\")\n",
    "\n",
    "plt.show()\n",
    "\n"
   ]
  },
  {
   "cell_type": "markdown",
   "metadata": {},
   "source": [
    "# Geographical Patterns"
   ]
  },
  {
   "cell_type": "code",
   "execution_count": 24,
   "metadata": {},
   "outputs": [
    {
     "name": "stdout",
     "output_type": "stream",
     "text": [
      "popular start stations:\n",
      " 35     66299\n",
      "192    62540\n",
      "77     51582\n",
      "91     48578\n",
      "43     37849\n",
      "Name: start_station_id, dtype: int64 \n",
      "\n",
      "popular end stations:\n",
      " 35     77606\n",
      "192    59072\n",
      "77     49959\n",
      "91     47546\n",
      "43     37793\n",
      "Name: end_station_id, dtype: int64 \n",
      "\n",
      "unpopular start stations:\n",
      " 608    2\n",
      "648    2\n",
      "653    1\n",
      "651    1\n",
      "363    1\n",
      "Name: start_station_id, dtype: int64 \n",
      "\n",
      "unpopular end stations:\n",
      " 608    6\n",
      "612    6\n",
      "618    6\n",
      "512    5\n",
      "647    1\n",
      "Name: end_station_id, dtype: int64 \n",
      "\n",
      "popular routes: \n"
     ]
    },
    {
     "data": {
      "text/plain": [
       "start_station_id  end_station_id\n",
       "35                35                8249\n",
       "76                35                7700\n",
       "                  76                5542\n",
       "43                192               4111\n",
       "192               43                3981\n",
       "dtype: int64"
      ]
     },
     "execution_count": 24,
     "metadata": {},
     "output_type": "execute_result"
    }
   ],
   "source": [
    "# Geographical Demand Patterns:\n",
    "# which stations are popular, which are not?\n",
    "\n",
    "# Get popular start stations\n",
    "popular_start_stations = chicago_set[\"start_station_id\"].value_counts()\n",
    "print(\"popular start stations:\\n\", popular_start_stations.head(5), \"\\n\")\n",
    "\n",
    "# Get popular end stations\n",
    "popular_end_stations = chicago_set[\"end_station_id\"].value_counts()\n",
    "print(\"popular end stations:\\n\", popular_end_stations.head(5), \"\\n\")\n",
    "\n",
    "print(\"unpopular start stations:\\n\", popular_start_stations[-5:], \"\\n\")\n",
    "\n",
    "print(\"unpopular end stations:\\n\", popular_end_stations[-5:], \"\\n\")\n",
    "# -> count how many times station is mentioned (seperate start and stop?); maybe select routes that appear often\n",
    "\n",
    "routes = chicago_set.groupby(['start_station_id', 'end_station_id']).size().sort_values(ascending=False)\n",
    "print(\"popular routes: \")\n",
    "routes.head(5)"
   ]
  },
  {
   "cell_type": "code",
   "execution_count": 34,
   "metadata": {},
   "outputs": [],
   "source": [
    "# loading dataset withg the coordinates\n",
    "coordinates_file = \"C:\\\\Users\\\\gerialiaj\\\\Desktop\\\\Uni\\\\6.Semester\\\\DSML\\\\Projekt\"\n",
    "coordinates = pd.read_csv(\"Divvy_Trips_2018_Q1.csv\", sep=\",\", low_memory = False)\n",
    "coordinates = pd.read_csv(\"Divvy_Trips_2018_Q2.csv\", sep=\",\", low_memory = False)\n",
    "coordinates = pd.read_csv(\"Divvy_Trips_2018_Q3.csv\", sep=\",\", low_memory = False)\n",
    "coordinates = pd.read_csv(\"Divvy_Trips_2018_Q4.csv\", sep=\",\", low_memory = False)\n",
    "\n",
    "#coordinates = pd.read_csv(\"chicago_2018.csv\")"
   ]
  },
  {
   "cell_type": "code",
   "execution_count": 35,
   "metadata": {},
   "outputs": [],
   "source": [
    "# counting the number of start and end stations\n",
    "count_start = chicago_set[\"start_station_name\"].value_counts()\n",
    "count_end = chicago_set[\"end_station_name\"].value_counts()"
   ]
  },
  {
   "cell_type": "code",
   "execution_count": 36,
   "metadata": {},
   "outputs": [
    {
     "ename": "KeyError",
     "evalue": "'start_lat'",
     "output_type": "error",
     "traceback": [
      "\u001b[0;31m---------------------------------------------------------------------------\u001b[0m",
      "\u001b[0;31mKeyError\u001b[0m                                  Traceback (most recent call last)",
      "\u001b[0;32m~/opt/anaconda3/lib/python3.8/site-packages/pandas/core/indexes/base.py\u001b[0m in \u001b[0;36mget_loc\u001b[0;34m(self, key, method, tolerance)\u001b[0m\n\u001b[1;32m   2894\u001b[0m             \u001b[0;32mtry\u001b[0m\u001b[0;34m:\u001b[0m\u001b[0;34m\u001b[0m\u001b[0;34m\u001b[0m\u001b[0m\n\u001b[0;32m-> 2895\u001b[0;31m                 \u001b[0;32mreturn\u001b[0m \u001b[0mself\u001b[0m\u001b[0;34m.\u001b[0m\u001b[0m_engine\u001b[0m\u001b[0;34m.\u001b[0m\u001b[0mget_loc\u001b[0m\u001b[0;34m(\u001b[0m\u001b[0mcasted_key\u001b[0m\u001b[0;34m)\u001b[0m\u001b[0;34m\u001b[0m\u001b[0;34m\u001b[0m\u001b[0m\n\u001b[0m\u001b[1;32m   2896\u001b[0m             \u001b[0;32mexcept\u001b[0m \u001b[0mKeyError\u001b[0m \u001b[0;32mas\u001b[0m \u001b[0merr\u001b[0m\u001b[0;34m:\u001b[0m\u001b[0;34m\u001b[0m\u001b[0;34m\u001b[0m\u001b[0m\n",
      "\u001b[0;32mpandas/_libs/index.pyx\u001b[0m in \u001b[0;36mpandas._libs.index.IndexEngine.get_loc\u001b[0;34m()\u001b[0m\n",
      "\u001b[0;32mpandas/_libs/index.pyx\u001b[0m in \u001b[0;36mpandas._libs.index.IndexEngine.get_loc\u001b[0;34m()\u001b[0m\n",
      "\u001b[0;32mpandas/_libs/hashtable_class_helper.pxi\u001b[0m in \u001b[0;36mpandas._libs.hashtable.PyObjectHashTable.get_item\u001b[0;34m()\u001b[0m\n",
      "\u001b[0;32mpandas/_libs/hashtable_class_helper.pxi\u001b[0m in \u001b[0;36mpandas._libs.hashtable.PyObjectHashTable.get_item\u001b[0;34m()\u001b[0m\n",
      "\u001b[0;31mKeyError\u001b[0m: 'start_lat'",
      "\nThe above exception was the direct cause of the following exception:\n",
      "\u001b[0;31mKeyError\u001b[0m                                  Traceback (most recent call last)",
      "\u001b[0;32m<ipython-input-36-2b37e763595d>\u001b[0m in \u001b[0;36m<module>\u001b[0;34m\u001b[0m\n\u001b[1;32m     13\u001b[0m \u001b[0mcoordinates\u001b[0m\u001b[0;34m[\u001b[0m\u001b[0;34m\"name\"\u001b[0m\u001b[0;34m]\u001b[0m \u001b[0;34m=\u001b[0m \u001b[0mtotal_trips\u001b[0m\u001b[0;34m[\u001b[0m\u001b[0;34m\"station_name\"\u001b[0m\u001b[0;34m]\u001b[0m\u001b[0;34m\u001b[0m\u001b[0;34m\u001b[0m\u001b[0m\n\u001b[1;32m     14\u001b[0m \u001b[0;34m\u001b[0m\u001b[0m\n\u001b[0;32m---> 15\u001b[0;31m \u001b[0mcoordinates\u001b[0m\u001b[0;34m[\u001b[0m\u001b[0;34m\"station_coordinates\"\u001b[0m\u001b[0;34m]\u001b[0m \u001b[0;34m=\u001b[0m \u001b[0mlist\u001b[0m\u001b[0;34m(\u001b[0m\u001b[0mzip\u001b[0m\u001b[0;34m(\u001b[0m\u001b[0mcoordinates\u001b[0m\u001b[0;34m[\u001b[0m\u001b[0;34m\"start_lat\"\u001b[0m\u001b[0;34m]\u001b[0m\u001b[0;34m,\u001b[0m\u001b[0mcoordinates\u001b[0m\u001b[0;34m[\u001b[0m\u001b[0;34m\"start_lon\"\u001b[0m\u001b[0;34m]\u001b[0m\u001b[0;34m)\u001b[0m\u001b[0;34m)\u001b[0m\u001b[0;34m\u001b[0m\u001b[0;34m\u001b[0m\u001b[0m\n\u001b[0m\u001b[1;32m     16\u001b[0m \u001b[0mtotal_trips\u001b[0m \u001b[0;34m=\u001b[0m \u001b[0mtotal_trips\u001b[0m\u001b[0;34m.\u001b[0m\u001b[0mmerge\u001b[0m\u001b[0;34m(\u001b[0m\u001b[0mcoordinates\u001b[0m\u001b[0;34m[\u001b[0m\u001b[0;34m\"station_coordinates\"\u001b[0m\u001b[0;34m]\u001b[0m\u001b[0;34m.\u001b[0m\u001b[0mto_frame\u001b[0m\u001b[0;34m(\u001b[0m\u001b[0;34m)\u001b[0m\u001b[0;34m,\u001b[0m\u001b[0mhow\u001b[0m \u001b[0;34m=\u001b[0m \u001b[0;34m\"left\"\u001b[0m\u001b[0;34m,\u001b[0m\u001b[0mleft_on\u001b[0m\u001b[0;34m=\u001b[0m\u001b[0mtotal_trips\u001b[0m\u001b[0;34m[\u001b[0m\u001b[0;34m\"station_name\"\u001b[0m\u001b[0;34m]\u001b[0m\u001b[0;34m,\u001b[0m\u001b[0mright_on\u001b[0m\u001b[0;34m=\u001b[0m\u001b[0mcoordinates\u001b[0m\u001b[0;34m[\u001b[0m\u001b[0;34m\"name\"\u001b[0m\u001b[0;34m]\u001b[0m\u001b[0;34m)\u001b[0m\u001b[0;34m\u001b[0m\u001b[0;34m\u001b[0m\u001b[0m\n\u001b[1;32m     17\u001b[0m \u001b[0mtotal_trips\u001b[0m \u001b[0;34m=\u001b[0m \u001b[0mtotal_trips\u001b[0m\u001b[0;34m.\u001b[0m\u001b[0mdrop\u001b[0m\u001b[0;34m(\u001b[0m\u001b[0mcolumns\u001b[0m \u001b[0;34m=\u001b[0m \u001b[0;34m[\u001b[0m\u001b[0;34m'key_0'\u001b[0m\u001b[0;34m]\u001b[0m\u001b[0;34m)\u001b[0m\u001b[0;34m\u001b[0m\u001b[0;34m\u001b[0m\u001b[0m\n",
      "\u001b[0;32m~/opt/anaconda3/lib/python3.8/site-packages/pandas/core/frame.py\u001b[0m in \u001b[0;36m__getitem__\u001b[0;34m(self, key)\u001b[0m\n\u001b[1;32m   2900\u001b[0m             \u001b[0;32mif\u001b[0m \u001b[0mself\u001b[0m\u001b[0;34m.\u001b[0m\u001b[0mcolumns\u001b[0m\u001b[0;34m.\u001b[0m\u001b[0mnlevels\u001b[0m \u001b[0;34m>\u001b[0m \u001b[0;36m1\u001b[0m\u001b[0;34m:\u001b[0m\u001b[0;34m\u001b[0m\u001b[0;34m\u001b[0m\u001b[0m\n\u001b[1;32m   2901\u001b[0m                 \u001b[0;32mreturn\u001b[0m \u001b[0mself\u001b[0m\u001b[0;34m.\u001b[0m\u001b[0m_getitem_multilevel\u001b[0m\u001b[0;34m(\u001b[0m\u001b[0mkey\u001b[0m\u001b[0;34m)\u001b[0m\u001b[0;34m\u001b[0m\u001b[0;34m\u001b[0m\u001b[0m\n\u001b[0;32m-> 2902\u001b[0;31m             \u001b[0mindexer\u001b[0m \u001b[0;34m=\u001b[0m \u001b[0mself\u001b[0m\u001b[0;34m.\u001b[0m\u001b[0mcolumns\u001b[0m\u001b[0;34m.\u001b[0m\u001b[0mget_loc\u001b[0m\u001b[0;34m(\u001b[0m\u001b[0mkey\u001b[0m\u001b[0;34m)\u001b[0m\u001b[0;34m\u001b[0m\u001b[0;34m\u001b[0m\u001b[0m\n\u001b[0m\u001b[1;32m   2903\u001b[0m             \u001b[0;32mif\u001b[0m \u001b[0mis_integer\u001b[0m\u001b[0;34m(\u001b[0m\u001b[0mindexer\u001b[0m\u001b[0;34m)\u001b[0m\u001b[0;34m:\u001b[0m\u001b[0;34m\u001b[0m\u001b[0;34m\u001b[0m\u001b[0m\n\u001b[1;32m   2904\u001b[0m                 \u001b[0mindexer\u001b[0m \u001b[0;34m=\u001b[0m \u001b[0;34m[\u001b[0m\u001b[0mindexer\u001b[0m\u001b[0;34m]\u001b[0m\u001b[0;34m\u001b[0m\u001b[0;34m\u001b[0m\u001b[0m\n",
      "\u001b[0;32m~/opt/anaconda3/lib/python3.8/site-packages/pandas/core/indexes/base.py\u001b[0m in \u001b[0;36mget_loc\u001b[0;34m(self, key, method, tolerance)\u001b[0m\n\u001b[1;32m   2895\u001b[0m                 \u001b[0;32mreturn\u001b[0m \u001b[0mself\u001b[0m\u001b[0;34m.\u001b[0m\u001b[0m_engine\u001b[0m\u001b[0;34m.\u001b[0m\u001b[0mget_loc\u001b[0m\u001b[0;34m(\u001b[0m\u001b[0mcasted_key\u001b[0m\u001b[0;34m)\u001b[0m\u001b[0;34m\u001b[0m\u001b[0;34m\u001b[0m\u001b[0m\n\u001b[1;32m   2896\u001b[0m             \u001b[0;32mexcept\u001b[0m \u001b[0mKeyError\u001b[0m \u001b[0;32mas\u001b[0m \u001b[0merr\u001b[0m\u001b[0;34m:\u001b[0m\u001b[0;34m\u001b[0m\u001b[0;34m\u001b[0m\u001b[0m\n\u001b[0;32m-> 2897\u001b[0;31m                 \u001b[0;32mraise\u001b[0m \u001b[0mKeyError\u001b[0m\u001b[0;34m(\u001b[0m\u001b[0mkey\u001b[0m\u001b[0;34m)\u001b[0m \u001b[0;32mfrom\u001b[0m \u001b[0merr\u001b[0m\u001b[0;34m\u001b[0m\u001b[0;34m\u001b[0m\u001b[0m\n\u001b[0m\u001b[1;32m   2898\u001b[0m \u001b[0;34m\u001b[0m\u001b[0m\n\u001b[1;32m   2899\u001b[0m         \u001b[0;32mif\u001b[0m \u001b[0mtolerance\u001b[0m \u001b[0;32mis\u001b[0m \u001b[0;32mnot\u001b[0m \u001b[0;32mNone\u001b[0m\u001b[0;34m:\u001b[0m\u001b[0;34m\u001b[0m\u001b[0;34m\u001b[0m\u001b[0m\n",
      "\u001b[0;31mKeyError\u001b[0m: 'start_lat'"
     ]
    }
   ],
   "source": [
    "# aggregating; started trip and ended trip is one total trip\n",
    "total_trips = count_start.to_frame().merge(count_end,left_on=count_start.index,right_on=count_end.index,how=\"outer\")\n",
    "total_trips = total_trips.rename(columns={\"key_0\":\"station_name\",\"end_station_name\":\"ended_trips\",\"start_station_name\":\"started_trips\"})\n",
    "\n",
    "# setting null values to 0\n",
    "total_trips = total_trips.fillna(value=0)\n",
    "\n",
    "# adding trips column\n",
    "total_trips[\"trips\"] = total_trips[\"ended_trips\"]+total_trips[\"started_trips\"]\n",
    "total_trips.head()\n",
    "\n",
    "#adding coordinates to stations\n",
    "coordinates[\"name\"] = total_trips[\"station_name\"]\n",
    "\n",
    "coordinates[\"station_coordinates\"] = list(zip(coordinates[\"start_lat\"],coordinates[\"start_lon\"]))\n",
    "total_trips = total_trips.merge(coordinates[\"station_coordinates\"].to_frame(),how = \"left\",left_on=total_trips[\"station_name\"],right_on=coordinates[\"name\"])\n",
    "total_trips = total_trips.drop(columns = ['key_0'])\n",
    "\n",
    "#Drop NaN values\n",
    "#total_trips = total_trips.dropna()\n",
    "\n",
    "#Reset indices\n",
    "#total_trips = total_trips.reset_index(drop = True)\n",
    "\n",
    "#dropping stations without location data\n",
    "total_trips = total_trips.dropna(axis=0)\n",
    "total_trips = total_trips.sort_values(by=\"trips\",ascending=False)\n",
    "total_trips.head(20)"
   ]
  },
  {
   "cell_type": "code",
   "execution_count": null,
   "metadata": {},
   "outputs": [],
   "source": []
  },
  {
   "cell_type": "code",
   "execution_count": null,
   "metadata": {},
   "outputs": [],
   "source": []
  },
  {
   "cell_type": "code",
   "execution_count": null,
   "metadata": {},
   "outputs": [],
   "source": []
  },
  {
   "cell_type": "code",
   "execution_count": 25,
   "metadata": {},
   "outputs": [
    {
     "ename": "NameError",
     "evalue": "name 'total_trips' is not defined",
     "output_type": "error",
     "traceback": [
      "\u001b[0;31m---------------------------------------------------------------------------\u001b[0m",
      "\u001b[0;31mNameError\u001b[0m                                 Traceback (most recent call last)",
      "\u001b[0;32m<ipython-input-25-64eb53146ece>\u001b[0m in \u001b[0;36m<module>\u001b[0;34m\u001b[0m\n\u001b[1;32m      3\u001b[0m \u001b[0mfig\u001b[0m\u001b[0;34m,\u001b[0m \u001b[0max\u001b[0m \u001b[0;34m=\u001b[0m \u001b[0mplt\u001b[0m\u001b[0;34m.\u001b[0m\u001b[0msubplots\u001b[0m\u001b[0;34m(\u001b[0m\u001b[0mfigsize\u001b[0m\u001b[0;34m=\u001b[0m\u001b[0;34m[\u001b[0m\u001b[0;36m16\u001b[0m\u001b[0;34m,\u001b[0m\u001b[0;36m5\u001b[0m\u001b[0;34m]\u001b[0m\u001b[0;34m)\u001b[0m\u001b[0;34m\u001b[0m\u001b[0;34m\u001b[0m\u001b[0m\n\u001b[1;32m      4\u001b[0m \u001b[0mplt\u001b[0m\u001b[0;34m.\u001b[0m\u001b[0msetp\u001b[0m\u001b[0;34m(\u001b[0m\u001b[0max\u001b[0m\u001b[0;34m.\u001b[0m\u001b[0mxaxis\u001b[0m\u001b[0;34m.\u001b[0m\u001b[0mget_majorticklabels\u001b[0m\u001b[0;34m(\u001b[0m\u001b[0;34m)\u001b[0m\u001b[0;34m,\u001b[0m\u001b[0mrotation\u001b[0m\u001b[0;34m=\u001b[0m\u001b[0;36m90\u001b[0m\u001b[0;34m,\u001b[0m\u001b[0mfontsize\u001b[0m\u001b[0;34m=\u001b[0m\u001b[0;36m12\u001b[0m\u001b[0;34m)\u001b[0m\u001b[0;34m\u001b[0m\u001b[0;34m\u001b[0m\u001b[0m\n\u001b[0;32m----> 5\u001b[0;31m \u001b[0max\u001b[0m\u001b[0;34m.\u001b[0m\u001b[0mbar\u001b[0m\u001b[0;34m(\u001b[0m\u001b[0mtotal_trips\u001b[0m\u001b[0;34m[\u001b[0m\u001b[0;34m\"station_name\"\u001b[0m\u001b[0;34m]\u001b[0m\u001b[0;34m.\u001b[0m\u001b[0miloc\u001b[0m\u001b[0;34m[\u001b[0m\u001b[0;34m:\u001b[0m\u001b[0;36m50\u001b[0m\u001b[0;34m]\u001b[0m\u001b[0;34m,\u001b[0m \u001b[0mtotal_trips\u001b[0m\u001b[0;34m[\u001b[0m\u001b[0;34m\"trips\"\u001b[0m\u001b[0;34m]\u001b[0m\u001b[0;34m.\u001b[0m\u001b[0miloc\u001b[0m\u001b[0;34m[\u001b[0m\u001b[0;34m:\u001b[0m\u001b[0;36m50\u001b[0m\u001b[0;34m]\u001b[0m\u001b[0;34m,\u001b[0m \u001b[0mcolor\u001b[0m \u001b[0;34m=\u001b[0m \u001b[0;34m\"blue\"\u001b[0m\u001b[0;34m)\u001b[0m\u001b[0;34m\u001b[0m\u001b[0;34m\u001b[0m\u001b[0m\n\u001b[0m\u001b[1;32m      6\u001b[0m \u001b[0mcolor\u001b[0m \u001b[0;34m=\u001b[0m \u001b[0;34m\"blue\"\u001b[0m\u001b[0;34m\u001b[0m\u001b[0;34m\u001b[0m\u001b[0m\n",
      "\u001b[0;31mNameError\u001b[0m: name 'total_trips' is not defined"
     ]
    },
    {
     "data": {
      "image/png": "[encoded data removed]",
      "text/plain": [
       "<Figure size 1152x360 with 1 Axes>"
      ]
     },
     "metadata": {
      "needs_background": "light"
     },
     "output_type": "display_data"
    }
   ],
   "source": [
    "# sorting stations by highest total trips (started and ended trips)\n",
    "\n",
    "fig, ax = plt.subplots(figsize=[16,5])\n",
    "plt.setp(ax.xaxis.get_majorticklabels(),rotation=90,fontsize=12)\n",
    "ax.bar(total_trips[\"station_name\"].iloc[:50], total_trips[\"trips\"].iloc[:50], color = \"blue\")\n",
    "color = \"blue\""
   ]
  },
  {
   "cell_type": "code",
   "execution_count": null,
   "metadata": {},
   "outputs": [],
   "source": []
  },
  {
   "cell_type": "code",
   "execution_count": null,
   "metadata": {},
   "outputs": [],
   "source": []
  },
  {
   "cell_type": "code",
   "execution_count": null,
   "metadata": {},
   "outputs": [],
   "source": []
  },
  {
   "cell_type": "code",
   "execution_count": null,
   "metadata": {},
   "outputs": [],
   "source": []
  },
  {
   "cell_type": "code",
   "execution_count": null,
   "metadata": {},
   "outputs": [],
   "source": []
  },
  {
   "cell_type": "code",
   "execution_count": 26,
   "metadata": {},
   "outputs": [
    {
     "ename": "NameError",
     "evalue": "name 'total_trips' is not defined",
     "output_type": "error",
     "traceback": [
      "\u001b[0;31m---------------------------------------------------------------------------\u001b[0m",
      "\u001b[0;31mNameError\u001b[0m                                 Traceback (most recent call last)",
      "\u001b[0;32m<ipython-input-26-39803b852a3c>\u001b[0m in \u001b[0;36m<module>\u001b[0;34m\u001b[0m\n\u001b[1;32m      3\u001b[0m \u001b[0mfig\u001b[0m\u001b[0;34m,\u001b[0m \u001b[0max\u001b[0m \u001b[0;34m=\u001b[0m \u001b[0mplt\u001b[0m\u001b[0;34m.\u001b[0m\u001b[0msubplots\u001b[0m\u001b[0;34m(\u001b[0m\u001b[0mfigsize\u001b[0m\u001b[0;34m=\u001b[0m\u001b[0;34m[\u001b[0m\u001b[0;36m16\u001b[0m\u001b[0;34m,\u001b[0m\u001b[0;36m5\u001b[0m\u001b[0;34m]\u001b[0m\u001b[0;34m)\u001b[0m\u001b[0;34m\u001b[0m\u001b[0;34m\u001b[0m\u001b[0m\n\u001b[1;32m      4\u001b[0m \u001b[0mplt\u001b[0m\u001b[0;34m.\u001b[0m\u001b[0msetp\u001b[0m\u001b[0;34m(\u001b[0m\u001b[0max\u001b[0m\u001b[0;34m.\u001b[0m\u001b[0mxaxis\u001b[0m\u001b[0;34m.\u001b[0m\u001b[0mget_majorticklabels\u001b[0m\u001b[0;34m(\u001b[0m\u001b[0;34m)\u001b[0m\u001b[0;34m,\u001b[0m\u001b[0mrotation\u001b[0m\u001b[0;34m=\u001b[0m\u001b[0;36m90\u001b[0m\u001b[0;34m,\u001b[0m\u001b[0mfontsize\u001b[0m\u001b[0;34m=\u001b[0m\u001b[0;36m12\u001b[0m\u001b[0;34m)\u001b[0m\u001b[0;34m\u001b[0m\u001b[0;34m\u001b[0m\u001b[0m\n\u001b[0;32m----> 5\u001b[0;31m \u001b[0max\u001b[0m\u001b[0;34m.\u001b[0m\u001b[0mbar\u001b[0m\u001b[0;34m(\u001b[0m\u001b[0mtotal_trips\u001b[0m\u001b[0;34m[\u001b[0m\u001b[0;34m\"station_name\"\u001b[0m\u001b[0;34m]\u001b[0m\u001b[0;34m.\u001b[0m\u001b[0miloc\u001b[0m\u001b[0;34m[\u001b[0m\u001b[0;34m-\u001b[0m\u001b[0;36m50\u001b[0m\u001b[0;34m:\u001b[0m\u001b[0;34m]\u001b[0m\u001b[0;34m,\u001b[0m \u001b[0mtotal_trips\u001b[0m\u001b[0;34m[\u001b[0m\u001b[0;34m\"trips\"\u001b[0m\u001b[0;34m]\u001b[0m\u001b[0;34m.\u001b[0m\u001b[0miloc\u001b[0m\u001b[0;34m[\u001b[0m\u001b[0;34m-\u001b[0m\u001b[0;36m50\u001b[0m\u001b[0;34m:\u001b[0m\u001b[0;34m]\u001b[0m\u001b[0;34m,\u001b[0m \u001b[0mcolor\u001b[0m \u001b[0;34m=\u001b[0m \u001b[0;34m\"violet\"\u001b[0m\u001b[0;34m)\u001b[0m\u001b[0;34m\u001b[0m\u001b[0;34m\u001b[0m\u001b[0m\n\u001b[0m",
      "\u001b[0;31mNameError\u001b[0m: name 'total_trips' is not defined"
     ]
    },
    {
     "data": {
      "image/png": "[encoded data removed]",
      "text/plain": [
       "<Figure size 1152x360 with 1 Axes>"
      ]
     },
     "metadata": {
      "needs_background": "light"
     },
     "output_type": "display_data"
    }
   ],
   "source": [
    "# sorting stations by least total trips (started and ended trips)\n",
    "\n",
    "fig, ax = plt.subplots(figsize=[16,5])\n",
    "plt.setp(ax.xaxis.get_majorticklabels(),rotation=90,fontsize=12)\n",
    "ax.bar(total_trips[\"station_name\"].iloc[-50:], total_trips[\"trips\"].iloc[-50:], color = \"violet\")"
   ]
  },
  {
   "cell_type": "code",
   "execution_count": null,
   "metadata": {},
   "outputs": [],
   "source": []
  },
  {
   "cell_type": "code",
   "execution_count": null,
   "metadata": {},
   "outputs": [],
   "source": []
  },
  {
   "cell_type": "code",
   "execution_count": null,
   "metadata": {},
   "outputs": [],
   "source": []
  },
  {
   "cell_type": "code",
   "execution_count": null,
   "metadata": {},
   "outputs": [],
   "source": []
  },
  {
   "cell_type": "code",
   "execution_count": 38,
   "metadata": {},
   "outputs": [
    {
     "data": {
      "text/html": [
       "<div>\n",
       "<style scoped>\n",
       "    .dataframe tbody tr th:only-of-type {\n",
       "        vertical-align: middle;\n",
       "    }\n",
       "\n",
       "    .dataframe tbody tr th {\n",
       "        vertical-align: top;\n",
       "    }\n",
       "\n",
       "    .dataframe thead th {\n",
       "        text-align: right;\n",
       "    }\n",
       "</style>\n",
       "<table border=\"1\" class=\"dataframe\">\n",
       "  <thead>\n",
       "    <tr style=\"text-align: right;\">\n",
       "      <th></th>\n",
       "      <th>amount</th>\n",
       "    </tr>\n",
       "  </thead>\n",
       "  <tbody>\n",
       "    <tr>\n",
       "      <th>Subscriber</th>\n",
       "      <td>2913917</td>\n",
       "    </tr>\n",
       "    <tr>\n",
       "      <th>Customer</th>\n",
       "      <td>670865</td>\n",
       "    </tr>\n",
       "  </tbody>\n",
       "</table>\n",
       "</div>"
      ],
      "text/plain": [
       "             amount\n",
       "Subscriber  2913917\n",
       "Customer     670865"
      ]
     },
     "execution_count": 38,
     "metadata": {},
     "output_type": "execute_result"
    }
   ],
   "source": [
    "#Getting the total amount of the different user types\n",
    "user_types_total = pd.DataFrame(chicago_set[\"user_type\"].value_counts())\n",
    "user_types_total = user_types_total.rename(columns = {'user_type':'amount'})\n",
    "\n",
    "user_types_total"
   ]
  },
  {
   "cell_type": "code",
   "execution_count": 41,
   "metadata": {},
   "outputs": [],
   "source": [
    "#plt.hist(chicago_set[\"user_type\"])"
   ]
  },
  {
   "cell_type": "code",
   "execution_count": 44,
   "metadata": {},
   "outputs": [
    {
     "name": "stdout",
     "output_type": "stream",
     "text": [
      "Subscriber > 30 minutes: 141669\n",
      "Subscriber <= 30 minutes: 2772248\n",
      "Customer > 30 minutes: 309212\n",
      "Customer <= 30 minutes: 0\n",
      "Customers drive more than 2 times over 30 minutes then subscribers. Mentionably is that no custumer driver used the bike less then 30 min, while most subscriber drive under 30 minutes\n"
     ]
    }
   ],
   "source": [
    "a = dt.timedelta(minutes=30)\n",
    "#amount of Subscribers > 30 min\n",
    "subscriber_higher30 = chicago_set[(chicago_set[\"user_type\"] == \"Subscriber\") & (chicago_set[\"duration\"] > a)]\n",
    "print(\"Subscriber > 30 minutes:\", len(subscriber_higher30))\n",
    "\n",
    "#amount of monthly passes < 30 min\n",
    "subscriber_lower30 = chicago_set[(chicago_set[\"user_type\"] == \"Subscriber\") & (chicago_set[\"duration\"] <= a)]\n",
    "print(\"Subscriber <= 30 minutes:\", len(subscriber_lower30))\n",
    "\n",
    "\n",
    "#amount of Walk-ups > 30 min\n",
    "customer_higher30 = chicago_set[(chicago_set[\"user_type\"] == \"Customer\") & (chicago_set[\"duration\"] > a)]\n",
    "print(\"Customer > 30 minutes:\", len(customer_higher30))\n",
    "\n",
    "#amount of Walk-ups < 30 min\n",
    "customer_lower30 = chicago_set[(chicago_set[\"user_type\"] == \"Customer-up\") & (chicago_set[\"duration\"] <= a)]\n",
    "print(\"Customer <= 30 minutes:\", len(customer_lower30))\n",
    "\n",
    "print(\"Customers drive more than 2 times over 30 minutes then subscribers. Mentionably is that no custumer driver used the bike less then 30 min, while most subscriber drive under 30 minutes\")"
   ]
  },
  {
   "cell_type": "markdown",
   "metadata": {},
   "source": [
    "## Demand per hour"
   ]
  },
  {
   "cell_type": "code",
   "execution_count": 49,
   "metadata": {},
   "outputs": [
    {
     "data": {
      "text/html": [
       "<div>\n",
       "<style scoped>\n",
       "    .dataframe tbody tr th:only-of-type {\n",
       "        vertical-align: middle;\n",
       "    }\n",
       "\n",
       "    .dataframe tbody tr th {\n",
       "        vertical-align: top;\n",
       "    }\n",
       "\n",
       "    .dataframe thead th {\n",
       "        text-align: right;\n",
       "    }\n",
       "</style>\n",
       "<table border=\"1\" class=\"dataframe\">\n",
       "  <thead>\n",
       "    <tr style=\"text-align: right;\">\n",
       "      <th></th>\n",
       "      <th>hour</th>\n",
       "      <th>date</th>\n",
       "      <th>amount</th>\n",
       "      <th>Fleet size</th>\n",
       "      <th>user types</th>\n",
       "    </tr>\n",
       "  </thead>\n",
       "  <tbody>\n",
       "    <tr>\n",
       "      <th>0</th>\n",
       "      <td>0</td>\n",
       "      <td>2018-01-01</td>\n",
       "      <td>7</td>\n",
       "      <td>6133</td>\n",
       "      <td>Subscriber</td>\n",
       "    </tr>\n",
       "    <tr>\n",
       "      <th>1</th>\n",
       "      <td>1</td>\n",
       "      <td>2018-01-01</td>\n",
       "      <td>14</td>\n",
       "      <td>6133</td>\n",
       "      <td>Subscriber</td>\n",
       "    </tr>\n",
       "    <tr>\n",
       "      <th>2</th>\n",
       "      <td>2</td>\n",
       "      <td>2018-01-01</td>\n",
       "      <td>10</td>\n",
       "      <td>6133</td>\n",
       "      <td>Customer</td>\n",
       "    </tr>\n",
       "    <tr>\n",
       "      <th>3</th>\n",
       "      <td>3</td>\n",
       "      <td>2018-01-01</td>\n",
       "      <td>2</td>\n",
       "      <td>6133</td>\n",
       "      <td>Subscriber</td>\n",
       "    </tr>\n",
       "    <tr>\n",
       "      <th>4</th>\n",
       "      <td>4</td>\n",
       "      <td>2018-01-01</td>\n",
       "      <td>2</td>\n",
       "      <td>6133</td>\n",
       "      <td>Subscriber</td>\n",
       "    </tr>\n",
       "    <tr>\n",
       "      <th>...</th>\n",
       "      <td>...</td>\n",
       "      <td>...</td>\n",
       "      <td>...</td>\n",
       "      <td>...</td>\n",
       "      <td>...</td>\n",
       "    </tr>\n",
       "    <tr>\n",
       "      <th>8739</th>\n",
       "      <td>19</td>\n",
       "      <td>2018-12-31</td>\n",
       "      <td>41</td>\n",
       "      <td>6133</td>\n",
       "      <td>Subscriber</td>\n",
       "    </tr>\n",
       "    <tr>\n",
       "      <th>8740</th>\n",
       "      <td>20</td>\n",
       "      <td>2018-12-31</td>\n",
       "      <td>28</td>\n",
       "      <td>6133</td>\n",
       "      <td>Subscriber</td>\n",
       "    </tr>\n",
       "    <tr>\n",
       "      <th>8741</th>\n",
       "      <td>21</td>\n",
       "      <td>2018-12-31</td>\n",
       "      <td>22</td>\n",
       "      <td>6133</td>\n",
       "      <td>Subscriber</td>\n",
       "    </tr>\n",
       "    <tr>\n",
       "      <th>8742</th>\n",
       "      <td>22</td>\n",
       "      <td>2018-12-31</td>\n",
       "      <td>25</td>\n",
       "      <td>6133</td>\n",
       "      <td>Subscriber</td>\n",
       "    </tr>\n",
       "    <tr>\n",
       "      <th>8743</th>\n",
       "      <td>23</td>\n",
       "      <td>2018-12-31</td>\n",
       "      <td>35</td>\n",
       "      <td>6133</td>\n",
       "      <td>Subscriber</td>\n",
       "    </tr>\n",
       "  </tbody>\n",
       "</table>\n",
       "<p>8744 rows × 5 columns</p>\n",
       "</div>"
      ],
      "text/plain": [
       "      hour        date  amount  Fleet size  user types\n",
       "0        0  2018-01-01       7        6133  Subscriber\n",
       "1        1  2018-01-01      14        6133  Subscriber\n",
       "2        2  2018-01-01      10        6133    Customer\n",
       "3        3  2018-01-01       2        6133  Subscriber\n",
       "4        4  2018-01-01       2        6133  Subscriber\n",
       "...    ...         ...     ...         ...         ...\n",
       "8739    19  2018-12-31      41        6133  Subscriber\n",
       "8740    20  2018-12-31      28        6133  Subscriber\n",
       "8741    21  2018-12-31      22        6133  Subscriber\n",
       "8742    22  2018-12-31      25        6133  Subscriber\n",
       "8743    23  2018-12-31      35        6133  Subscriber\n",
       "\n",
       "[8744 rows x 5 columns]"
      ]
     },
     "execution_count": 49,
     "metadata": {},
     "output_type": "execute_result"
    }
   ],
   "source": [
    "# Getting the demand per hour to provide our KPI's with and look for trends\n",
    "\n",
    "hour_demand = pd.DataFrame({'amount': chicago_set.groupby(by=[chicago_set['start_time'].apply(lambda x: x.date()),\n",
    "                                                    chicago_set['start_time'].apply(lambda x: x.hour)]).size()})\n",
    "\n",
    "\n",
    "\n",
    "hour_demand.reset_index(level=0, inplace=True)\n",
    "\n",
    "hour_demand = hour_demand.rename(columns = {'start_time':'date'})\n",
    "\n",
    "hour_demand.reset_index(inplace=True)\n",
    "\n",
    "hour_demand = hour_demand.rename(columns = {'start_time':'hour'})\n",
    "\n",
    "hour_demand['Fleet size']= fleet_size\n",
    "\n",
    "hour_demand['user types'] = chicago_set['user_type']\n",
    "\n",
    "hour_demand"
   ]
  },
  {
   "cell_type": "code",
   "execution_count": 50,
   "metadata": {},
   "outputs": [
    {
     "data": {
      "image/png": "[encoded data removed]",
      "text/plain": [
       "<Figure size 720x288 with 1 Axes>"
      ]
     },
     "metadata": {
      "needs_background": "light"
     },
     "output_type": "display_data"
    },
    {
     "name": "stdout",
     "output_type": "stream",
     "text": [
      "The plot shows us that it's best to charge and maintain the bikes between 22pm and 6am, when demand is at its lowest\n"
     ]
    }
   ],
   "source": [
    "#Demand per hour overall\n",
    "fig,ax = plt.subplots(figsize=(10,4))\n",
    "\n",
    "sns.boxplot(x=hour_demand[\"hour\"], y=hour_demand[\"amount\"], ax=ax)\n",
    "plt.show()\n",
    "\n",
    "print(\"The plot shows us that it's best to charge and maintain the bikes between 22pm and 6am, when demand is at its lowest\")"
   ]
  },
  {
   "cell_type": "code",
   "execution_count": 52,
   "metadata": {},
   "outputs": [
    {
     "data": {
      "image/png": "[encoded data removed]",
      "text/plain": [
       "<Figure size 720x288 with 1 Axes>"
      ]
     },
     "metadata": {
      "needs_background": "light"
     },
     "output_type": "display_data"
    },
    {
     "data": {
      "image/png": "[encoded data removed]",
      "text/plain": [
       "<Figure size 720x288 with 1 Axes>"
      ]
     },
     "metadata": {
      "needs_background": "light"
     },
     "output_type": "display_data"
    }
   ],
   "source": [
    "#Demand per hour for monthly pass users \n",
    "fig,ax = plt.subplots(figsize=(10,4))\n",
    "\n",
    "hour_demand_mp = hour_demand[(hour_demand[\"user types\"] == \"Subscriber\")]\n",
    "\n",
    "sns.boxplot(x=hour_demand_mp[\"hour\"], y=(hour_demand_mp[\"amount\"]))\n",
    "\n",
    "ax.set_xlabel(\"Hour\")\n",
    "ax.set_ylabel(\"Demand\")\n",
    "ax.set_title(\"Hourly demand for monthly pass users\")\n",
    "\n",
    "plt.show()\n",
    "\n",
    "#Demand per hour for walk up users \n",
    "fig,ax = plt.subplots(figsize=(10,4))\n",
    "\n",
    "hour_demand_wu = hour_demand[(hour_demand[\"user types\"] == \"Customer\")]\n",
    "\n",
    "sns.boxplot(x=hour_demand_wu[\"hour\"], y=(hour_demand_wu[\"amount\"]))\n",
    "\n",
    "ax.set_xlabel(\"Hour\")\n",
    "ax.set_ylabel(\"Demand\")\n",
    "ax.set_title(\"Hourly demand for walk-up users\")\n",
    "\n",
    "plt.show()"
   ]
  },
  {
   "cell_type": "markdown",
   "metadata": {},
   "source": [
    "## Utilization"
   ]
  },
  {
   "cell_type": "code",
   "execution_count": 54,
   "metadata": {},
   "outputs": [],
   "source": [
    "# Calculating the utilization of the fleet\n",
    "df_new = hour_demand.loc[:,\"amount\"].div(hour_demand[\"Fleet size\"], axis=0)"
   ]
  },
  {
   "cell_type": "code",
   "execution_count": 55,
   "metadata": {},
   "outputs": [
    {
     "data": {
      "text/html": [
       "<div>\n",
       "<style scoped>\n",
       "    .dataframe tbody tr th:only-of-type {\n",
       "        vertical-align: middle;\n",
       "    }\n",
       "\n",
       "    .dataframe tbody tr th {\n",
       "        vertical-align: top;\n",
       "    }\n",
       "\n",
       "    .dataframe thead th {\n",
       "        text-align: right;\n",
       "    }\n",
       "</style>\n",
       "<table border=\"1\" class=\"dataframe\">\n",
       "  <thead>\n",
       "    <tr style=\"text-align: right;\">\n",
       "      <th></th>\n",
       "      <th>hour</th>\n",
       "      <th>date</th>\n",
       "      <th>amount</th>\n",
       "      <th>Fleet size</th>\n",
       "      <th>user types</th>\n",
       "      <th>Fleet utilization</th>\n",
       "    </tr>\n",
       "  </thead>\n",
       "  <tbody>\n",
       "    <tr>\n",
       "      <th>0</th>\n",
       "      <td>0</td>\n",
       "      <td>2018-01-01</td>\n",
       "      <td>7</td>\n",
       "      <td>6133</td>\n",
       "      <td>Subscriber</td>\n",
       "      <td>0.001141</td>\n",
       "    </tr>\n",
       "    <tr>\n",
       "      <th>1</th>\n",
       "      <td>1</td>\n",
       "      <td>2018-01-01</td>\n",
       "      <td>14</td>\n",
       "      <td>6133</td>\n",
       "      <td>Subscriber</td>\n",
       "      <td>0.002283</td>\n",
       "    </tr>\n",
       "    <tr>\n",
       "      <th>2</th>\n",
       "      <td>2</td>\n",
       "      <td>2018-01-01</td>\n",
       "      <td>10</td>\n",
       "      <td>6133</td>\n",
       "      <td>Customer</td>\n",
       "      <td>0.001631</td>\n",
       "    </tr>\n",
       "    <tr>\n",
       "      <th>3</th>\n",
       "      <td>3</td>\n",
       "      <td>2018-01-01</td>\n",
       "      <td>2</td>\n",
       "      <td>6133</td>\n",
       "      <td>Subscriber</td>\n",
       "      <td>0.000326</td>\n",
       "    </tr>\n",
       "    <tr>\n",
       "      <th>4</th>\n",
       "      <td>4</td>\n",
       "      <td>2018-01-01</td>\n",
       "      <td>2</td>\n",
       "      <td>6133</td>\n",
       "      <td>Subscriber</td>\n",
       "      <td>0.000326</td>\n",
       "    </tr>\n",
       "    <tr>\n",
       "      <th>...</th>\n",
       "      <td>...</td>\n",
       "      <td>...</td>\n",
       "      <td>...</td>\n",
       "      <td>...</td>\n",
       "      <td>...</td>\n",
       "      <td>...</td>\n",
       "    </tr>\n",
       "    <tr>\n",
       "      <th>8739</th>\n",
       "      <td>19</td>\n",
       "      <td>2018-12-31</td>\n",
       "      <td>41</td>\n",
       "      <td>6133</td>\n",
       "      <td>Subscriber</td>\n",
       "      <td>0.006685</td>\n",
       "    </tr>\n",
       "    <tr>\n",
       "      <th>8740</th>\n",
       "      <td>20</td>\n",
       "      <td>2018-12-31</td>\n",
       "      <td>28</td>\n",
       "      <td>6133</td>\n",
       "      <td>Subscriber</td>\n",
       "      <td>0.004565</td>\n",
       "    </tr>\n",
       "    <tr>\n",
       "      <th>8741</th>\n",
       "      <td>21</td>\n",
       "      <td>2018-12-31</td>\n",
       "      <td>22</td>\n",
       "      <td>6133</td>\n",
       "      <td>Subscriber</td>\n",
       "      <td>0.003587</td>\n",
       "    </tr>\n",
       "    <tr>\n",
       "      <th>8742</th>\n",
       "      <td>22</td>\n",
       "      <td>2018-12-31</td>\n",
       "      <td>25</td>\n",
       "      <td>6133</td>\n",
       "      <td>Subscriber</td>\n",
       "      <td>0.004076</td>\n",
       "    </tr>\n",
       "    <tr>\n",
       "      <th>8743</th>\n",
       "      <td>23</td>\n",
       "      <td>2018-12-31</td>\n",
       "      <td>35</td>\n",
       "      <td>6133</td>\n",
       "      <td>Subscriber</td>\n",
       "      <td>0.005707</td>\n",
       "    </tr>\n",
       "  </tbody>\n",
       "</table>\n",
       "<p>8744 rows × 6 columns</p>\n",
       "</div>"
      ],
      "text/plain": [
       "      hour        date  amount  Fleet size  user types  Fleet utilization\n",
       "0        0  2018-01-01       7        6133  Subscriber           0.001141\n",
       "1        1  2018-01-01      14        6133  Subscriber           0.002283\n",
       "2        2  2018-01-01      10        6133    Customer           0.001631\n",
       "3        3  2018-01-01       2        6133  Subscriber           0.000326\n",
       "4        4  2018-01-01       2        6133  Subscriber           0.000326\n",
       "...    ...         ...     ...         ...         ...                ...\n",
       "8739    19  2018-12-31      41        6133  Subscriber           0.006685\n",
       "8740    20  2018-12-31      28        6133  Subscriber           0.004565\n",
       "8741    21  2018-12-31      22        6133  Subscriber           0.003587\n",
       "8742    22  2018-12-31      25        6133  Subscriber           0.004076\n",
       "8743    23  2018-12-31      35        6133  Subscriber           0.005707\n",
       "\n",
       "[8744 rows x 6 columns]"
      ]
     },
     "execution_count": 55,
     "metadata": {},
     "output_type": "execute_result"
    }
   ],
   "source": [
    "# Creating new row for the fleet utilization\n",
    "hour_demand['Fleet utilization']= df_new\n",
    "\n",
    "hour_demand"
   ]
  },
  {
   "cell_type": "code",
   "execution_count": 56,
   "metadata": {},
   "outputs": [
    {
     "data": {
      "image/png": "[encoded data removed]",
      "text/plain": [
       "<Figure size 1152x648 with 1 Axes>"
      ]
     },
     "metadata": {
      "needs_background": "light"
     },
     "output_type": "display_data"
    },
    {
     "name": "stdout",
     "output_type": "stream",
     "text": [
      "The fleet is almost never utilized for more than 5% over a day\n"
     ]
    }
   ],
   "source": [
    "fig, ax = plt.subplots(figsize = (16,9))\n",
    "\n",
    "# Plotting the utilization data\n",
    "ax.plot(hour_demand[\"date\"],hour_demand[[\"Fleet utilization\"]])\n",
    "ax.set_xlabel(\"Date\")\n",
    "ax.set_ylabel(\"Demand\")\n",
    "plt.show()\n",
    "print(\"The fleet is almost never utilized for more than 5% over a day\")"
   ]
  },
  {
   "cell_type": "markdown",
   "metadata": {},
   "source": [
    "##  Average duration"
   ]
  },
  {
   "cell_type": "code",
   "execution_count": 57,
   "metadata": {},
   "outputs": [],
   "source": [
    "def get_total_hours (td):\n",
    "    return (int)(td.total_seconds() / 3600)\n",
    "\n",
    "def get_total_minute (td):\n",
    "    return (int)(td.total_seconds() / 60)"
   ]
  },
  {
   "cell_type": "code",
   "execution_count": 61,
   "metadata": {},
   "outputs": [
    {
     "data": {
      "text/html": [
       "<div>\n",
       "<style scoped>\n",
       "    .dataframe tbody tr th:only-of-type {\n",
       "        vertical-align: middle;\n",
       "    }\n",
       "\n",
       "    .dataframe tbody tr th {\n",
       "        vertical-align: top;\n",
       "    }\n",
       "\n",
       "    .dataframe thead th {\n",
       "        text-align: right;\n",
       "    }\n",
       "</style>\n",
       "<table border=\"1\" class=\"dataframe\">\n",
       "  <thead>\n",
       "    <tr style=\"text-align: right;\">\n",
       "      <th></th>\n",
       "      <th>start_time</th>\n",
       "      <th>end_time</th>\n",
       "      <th>start_station_id</th>\n",
       "      <th>end_station_id</th>\n",
       "      <th>start_station_name</th>\n",
       "      <th>end_station_name</th>\n",
       "      <th>bike_id</th>\n",
       "      <th>user_type</th>\n",
       "      <th>duration</th>\n",
       "      <th>minutes</th>\n",
       "    </tr>\n",
       "  </thead>\n",
       "  <tbody>\n",
       "    <tr>\n",
       "      <th>0</th>\n",
       "      <td>2018-04-01 00:04:44</td>\n",
       "      <td>2018-04-01 00:13:03</td>\n",
       "      <td>22</td>\n",
       "      <td>171</td>\n",
       "      <td>May St &amp; Taylor St</td>\n",
       "      <td>May St &amp; Cullerton St</td>\n",
       "      <td>3819</td>\n",
       "      <td>Subscriber</td>\n",
       "      <td>0 days 00:08:19</td>\n",
       "      <td>8</td>\n",
       "    </tr>\n",
       "    <tr>\n",
       "      <th>1</th>\n",
       "      <td>2018-04-01 00:06:42</td>\n",
       "      <td>2018-04-01 00:27:07</td>\n",
       "      <td>157</td>\n",
       "      <td>190</td>\n",
       "      <td>Lake Shore Dr &amp; Wellington Ave</td>\n",
       "      <td>Southport Ave &amp; Wrightwood Ave</td>\n",
       "      <td>5000</td>\n",
       "      <td>Subscriber</td>\n",
       "      <td>0 days 00:20:25</td>\n",
       "      <td>20</td>\n",
       "    </tr>\n",
       "    <tr>\n",
       "      <th>2</th>\n",
       "      <td>2018-04-01 00:07:19</td>\n",
       "      <td>2018-04-01 00:23:19</td>\n",
       "      <td>106</td>\n",
       "      <td>106</td>\n",
       "      <td>State St &amp; Pearson St</td>\n",
       "      <td>State St &amp; Pearson St</td>\n",
       "      <td>5165</td>\n",
       "      <td>Customer</td>\n",
       "      <td>0 days 00:16:00</td>\n",
       "      <td>16</td>\n",
       "    </tr>\n",
       "    <tr>\n",
       "      <th>3</th>\n",
       "      <td>2018-04-01 00:07:33</td>\n",
       "      <td>2018-04-01 00:14:47</td>\n",
       "      <td>241</td>\n",
       "      <td>171</td>\n",
       "      <td>Morgan St &amp; Polk St</td>\n",
       "      <td>May St &amp; Cullerton St</td>\n",
       "      <td>3851</td>\n",
       "      <td>Subscriber</td>\n",
       "      <td>0 days 00:07:14</td>\n",
       "      <td>7</td>\n",
       "    </tr>\n",
       "    <tr>\n",
       "      <th>4</th>\n",
       "      <td>2018-04-01 00:10:23</td>\n",
       "      <td>2018-04-01 00:22:12</td>\n",
       "      <td>228</td>\n",
       "      <td>219</td>\n",
       "      <td>Damen Ave &amp; Melrose Ave</td>\n",
       "      <td>Damen Ave &amp; Cortland St</td>\n",
       "      <td>5065</td>\n",
       "      <td>Subscriber</td>\n",
       "      <td>0 days 00:11:49</td>\n",
       "      <td>11</td>\n",
       "    </tr>\n",
       "    <tr>\n",
       "      <th>...</th>\n",
       "      <td>...</td>\n",
       "      <td>...</td>\n",
       "      <td>...</td>\n",
       "      <td>...</td>\n",
       "      <td>...</td>\n",
       "      <td>...</td>\n",
       "      <td>...</td>\n",
       "      <td>...</td>\n",
       "      <td>...</td>\n",
       "      <td>...</td>\n",
       "    </tr>\n",
       "    <tr>\n",
       "      <th>3584784</th>\n",
       "      <td>2018-03-31 23:46:34</td>\n",
       "      <td>2018-04-01 00:05:24</td>\n",
       "      <td>158</td>\n",
       "      <td>260</td>\n",
       "      <td>Milwaukee Ave &amp; Wabansia Ave</td>\n",
       "      <td>Kedzie Ave &amp; Milwaukee Ave</td>\n",
       "      <td>1935</td>\n",
       "      <td>Subscriber</td>\n",
       "      <td>0 days 00:18:50</td>\n",
       "      <td>18</td>\n",
       "    </tr>\n",
       "    <tr>\n",
       "      <th>3584785</th>\n",
       "      <td>2018-03-31 23:47:43</td>\n",
       "      <td>2018-03-31 23:52:05</td>\n",
       "      <td>299</td>\n",
       "      <td>229</td>\n",
       "      <td>Halsted St &amp; Roscoe St</td>\n",
       "      <td>Southport Ave &amp; Roscoe St</td>\n",
       "      <td>5852</td>\n",
       "      <td>Subscriber</td>\n",
       "      <td>0 days 00:04:22</td>\n",
       "      <td>4</td>\n",
       "    </tr>\n",
       "    <tr>\n",
       "      <th>3584786</th>\n",
       "      <td>2018-03-31 23:50:18</td>\n",
       "      <td>2018-03-31 23:57:38</td>\n",
       "      <td>327</td>\n",
       "      <td>226</td>\n",
       "      <td>Sheffield Ave &amp; Webster Ave</td>\n",
       "      <td>Racine Ave &amp; Belmont Ave</td>\n",
       "      <td>4414</td>\n",
       "      <td>Subscriber</td>\n",
       "      <td>0 days 00:07:20</td>\n",
       "      <td>7</td>\n",
       "    </tr>\n",
       "    <tr>\n",
       "      <th>3584787</th>\n",
       "      <td>2018-03-31 23:52:26</td>\n",
       "      <td>2018-04-01 00:07:13</td>\n",
       "      <td>265</td>\n",
       "      <td>426</td>\n",
       "      <td>Cottage Grove Ave &amp; Oakwood Blvd</td>\n",
       "      <td>Ellis Ave &amp; 60th St</td>\n",
       "      <td>6448</td>\n",
       "      <td>Subscriber</td>\n",
       "      <td>0 days 00:14:47</td>\n",
       "      <td>14</td>\n",
       "    </tr>\n",
       "    <tr>\n",
       "      <th>3584788</th>\n",
       "      <td>2018-03-31 23:53:38</td>\n",
       "      <td>2018-04-01 00:03:08</td>\n",
       "      <td>485</td>\n",
       "      <td>475</td>\n",
       "      <td>Sawyer Ave &amp; Irving Park Rd</td>\n",
       "      <td>Washtenaw Ave &amp; Lawrence Ave</td>\n",
       "      <td>2769</td>\n",
       "      <td>Subscriber</td>\n",
       "      <td>0 days 00:09:30</td>\n",
       "      <td>9</td>\n",
       "    </tr>\n",
       "  </tbody>\n",
       "</table>\n",
       "<p>3584782 rows × 10 columns</p>\n",
       "</div>"
      ],
      "text/plain": [
       "                 start_time            end_time  start_station_id  \\\n",
       "0       2018-04-01 00:04:44 2018-04-01 00:13:03                22   \n",
       "1       2018-04-01 00:06:42 2018-04-01 00:27:07               157   \n",
       "2       2018-04-01 00:07:19 2018-04-01 00:23:19               106   \n",
       "3       2018-04-01 00:07:33 2018-04-01 00:14:47               241   \n",
       "4       2018-04-01 00:10:23 2018-04-01 00:22:12               228   \n",
       "...                     ...                 ...               ...   \n",
       "3584784 2018-03-31 23:46:34 2018-04-01 00:05:24               158   \n",
       "3584785 2018-03-31 23:47:43 2018-03-31 23:52:05               299   \n",
       "3584786 2018-03-31 23:50:18 2018-03-31 23:57:38               327   \n",
       "3584787 2018-03-31 23:52:26 2018-04-01 00:07:13               265   \n",
       "3584788 2018-03-31 23:53:38 2018-04-01 00:03:08               485   \n",
       "\n",
       "         end_station_id                start_station_name  \\\n",
       "0                   171                May St & Taylor St   \n",
       "1                   190    Lake Shore Dr & Wellington Ave   \n",
       "2                   106             State St & Pearson St   \n",
       "3                   171               Morgan St & Polk St   \n",
       "4                   219           Damen Ave & Melrose Ave   \n",
       "...                 ...                               ...   \n",
       "3584784             260      Milwaukee Ave & Wabansia Ave   \n",
       "3584785             229            Halsted St & Roscoe St   \n",
       "3584786             226       Sheffield Ave & Webster Ave   \n",
       "3584787             426  Cottage Grove Ave & Oakwood Blvd   \n",
       "3584788             475       Sawyer Ave & Irving Park Rd   \n",
       "\n",
       "                       end_station_name  bike_id   user_type        duration  \\\n",
       "0                 May St & Cullerton St     3819  Subscriber 0 days 00:08:19   \n",
       "1        Southport Ave & Wrightwood Ave     5000  Subscriber 0 days 00:20:25   \n",
       "2                 State St & Pearson St     5165    Customer 0 days 00:16:00   \n",
       "3                 May St & Cullerton St     3851  Subscriber 0 days 00:07:14   \n",
       "4               Damen Ave & Cortland St     5065  Subscriber 0 days 00:11:49   \n",
       "...                                 ...      ...         ...             ...   \n",
       "3584784      Kedzie Ave & Milwaukee Ave     1935  Subscriber 0 days 00:18:50   \n",
       "3584785       Southport Ave & Roscoe St     5852  Subscriber 0 days 00:04:22   \n",
       "3584786        Racine Ave & Belmont Ave     4414  Subscriber 0 days 00:07:20   \n",
       "3584787             Ellis Ave & 60th St     6448  Subscriber 0 days 00:14:47   \n",
       "3584788    Washtenaw Ave & Lawrence Ave     2769  Subscriber 0 days 00:09:30   \n",
       "\n",
       "         minutes  \n",
       "0              8  \n",
       "1             20  \n",
       "2             16  \n",
       "3              7  \n",
       "4             11  \n",
       "...          ...  \n",
       "3584784       18  \n",
       "3584785        4  \n",
       "3584786        7  \n",
       "3584787       14  \n",
       "3584788        9  \n",
       "\n",
       "[3584782 rows x 10 columns]"
      ]
     },
     "execution_count": 61,
     "metadata": {},
     "output_type": "execute_result"
    }
   ],
   "source": [
    "chicago_set[\"minutes\"] = chicago_set[\"duration\"].apply(lambda x:int(x.total_seconds() / 60))\n",
    "chicago_set"
   ]
  },
  {
   "cell_type": "code",
   "execution_count": 62,
   "metadata": {},
   "outputs": [
    {
     "data": {
      "text/html": [
       "<div>\n",
       "<style scoped>\n",
       "    .dataframe tbody tr th:only-of-type {\n",
       "        vertical-align: middle;\n",
       "    }\n",
       "\n",
       "    .dataframe tbody tr th {\n",
       "        vertical-align: top;\n",
       "    }\n",
       "\n",
       "    .dataframe thead th {\n",
       "        text-align: right;\n",
       "    }\n",
       "</style>\n",
       "<table border=\"1\" class=\"dataframe\">\n",
       "  <thead>\n",
       "    <tr style=\"text-align: right;\">\n",
       "      <th></th>\n",
       "      <th>start_time</th>\n",
       "      <th>minutes</th>\n",
       "      <th>amount</th>\n",
       "      <th>Average biking time</th>\n",
       "    </tr>\n",
       "  </thead>\n",
       "  <tbody>\n",
       "    <tr>\n",
       "      <th>0</th>\n",
       "      <td>-8759</td>\n",
       "      <td>83</td>\n",
       "      <td>7</td>\n",
       "      <td>11.857143</td>\n",
       "    </tr>\n",
       "    <tr>\n",
       "      <th>1</th>\n",
       "      <td>-8758</td>\n",
       "      <td>116</td>\n",
       "      <td>14</td>\n",
       "      <td>8.285714</td>\n",
       "    </tr>\n",
       "    <tr>\n",
       "      <th>2</th>\n",
       "      <td>-8757</td>\n",
       "      <td>99</td>\n",
       "      <td>10</td>\n",
       "      <td>9.900000</td>\n",
       "    </tr>\n",
       "    <tr>\n",
       "      <th>3</th>\n",
       "      <td>-8756</td>\n",
       "      <td>20</td>\n",
       "      <td>2</td>\n",
       "      <td>10.000000</td>\n",
       "    </tr>\n",
       "    <tr>\n",
       "      <th>4</th>\n",
       "      <td>-8755</td>\n",
       "      <td>9</td>\n",
       "      <td>2</td>\n",
       "      <td>4.500000</td>\n",
       "    </tr>\n",
       "    <tr>\n",
       "      <th>...</th>\n",
       "      <td>...</td>\n",
       "      <td>...</td>\n",
       "      <td>...</td>\n",
       "      <td>...</td>\n",
       "    </tr>\n",
       "    <tr>\n",
       "      <th>8739</th>\n",
       "      <td>-4</td>\n",
       "      <td>688</td>\n",
       "      <td>41</td>\n",
       "      <td>16.780488</td>\n",
       "    </tr>\n",
       "    <tr>\n",
       "      <th>8740</th>\n",
       "      <td>-3</td>\n",
       "      <td>512</td>\n",
       "      <td>28</td>\n",
       "      <td>18.285714</td>\n",
       "    </tr>\n",
       "    <tr>\n",
       "      <th>8741</th>\n",
       "      <td>-2</td>\n",
       "      <td>277</td>\n",
       "      <td>22</td>\n",
       "      <td>12.590909</td>\n",
       "    </tr>\n",
       "    <tr>\n",
       "      <th>8742</th>\n",
       "      <td>-1</td>\n",
       "      <td>308</td>\n",
       "      <td>25</td>\n",
       "      <td>12.320000</td>\n",
       "    </tr>\n",
       "    <tr>\n",
       "      <th>8743</th>\n",
       "      <td>0</td>\n",
       "      <td>405</td>\n",
       "      <td>35</td>\n",
       "      <td>11.571429</td>\n",
       "    </tr>\n",
       "  </tbody>\n",
       "</table>\n",
       "<p>8744 rows × 4 columns</p>\n",
       "</div>"
      ],
      "text/plain": [
       "      start_time  minutes  amount  Average biking time\n",
       "0          -8759       83       7            11.857143\n",
       "1          -8758      116      14             8.285714\n",
       "2          -8757       99      10             9.900000\n",
       "3          -8756       20       2            10.000000\n",
       "4          -8755        9       2             4.500000\n",
       "...          ...      ...     ...                  ...\n",
       "8739          -4      688      41            16.780488\n",
       "8740          -3      512      28            18.285714\n",
       "8741          -2      277      22            12.590909\n",
       "8742          -1      308      25            12.320000\n",
       "8743           0      405      35            11.571429\n",
       "\n",
       "[8744 rows x 4 columns]"
      ]
     },
     "execution_count": 62,
     "metadata": {},
     "output_type": "execute_result"
    }
   ],
   "source": [
    "# Calculate the average biking time\n",
    "time_zero = pd.to_datetime('2019-01-01 00:00:00')\n",
    "\n",
    "df1 = chicago_set[['start_time', 'minutes']]\n",
    "df1 = df1.groupby(df1['start_time'].apply(lambda x: get_total_hours(x-time_zero))).sum()\n",
    "df1.reset_index(level=0, inplace=True)\n",
    "df1['amount'] = hour_demand[\"amount\"]\n",
    "df1['Average biking time'] = df1.loc[:,\"minutes\"].div(df1['amount'], axis = 0)\n",
    "\n",
    "\n",
    "df1"
   ]
  }
 ],
 "metadata": {
  "kernelspec": {
   "display_name": "Python 3",
   "language": "python",
   "name": "python3"
  },
  "language_info": {
   "codemirror_mode": {
    "name": "ipython",
    "version": 3
   },
   "file_extension": ".py",
   "mimetype": "text/x-python",
   "name": "python",
   "nbconvert_exporter": "python",
   "pygments_lexer": "ipython3",
   "version": "3.8.5"
  }
 },
 "nbformat": 4,
 "nbformat_minor": 4
}
